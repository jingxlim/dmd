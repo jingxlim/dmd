{
 "cells": [
  {
   "cell_type": "code",
   "execution_count": 2,
   "metadata": {},
   "outputs": [],
   "source": [
    "import PIL"
   ]
  },
  {
   "cell_type": "code",
   "execution_count": 4,
   "metadata": {},
   "outputs": [],
   "source": [
    "# The conversion should work equally with a bitmap\n",
    "original_crosshair = PIL.Image.open(\"crosshair.bmp\")"
   ]
  },
  {
   "cell_type": "code",
   "execution_count": 5,
   "metadata": {},
   "outputs": [
    {
     "data": {
      "text/plain": [
       "(604, 684)"
      ]
     },
     "execution_count": 5,
     "metadata": {},
     "output_type": "execute_result"
    }
   ],
   "source": [
    "original_crosshair.size"
   ]
  },
  {
   "cell_type": "code",
   "execution_count": 6,
   "metadata": {},
   "outputs": [
    {
     "name": "stdout",
     "output_type": "stream",
     "text": [
      "(684, 604)\n"
     ]
    },
    {
     "data": {
      "application/vnd.jupyter.widget-view+json": {
       "model_id": "08dccbd9ff8249b6b3a17eceeb742f0f",
       "version_major": 2,
       "version_minor": 0
      },
      "text/plain": [
       "Canvas(toolbar=Toolbar(toolitems=[('Home', 'Reset original view', 'home', 'home'), ('Back', 'Back to previous …"
      ]
     },
     "metadata": {},
     "output_type": "display_data"
    },
    {
     "data": {
      "text/plain": [
       "<matplotlib.image.AxesImage at 0x7f35c271dba8>"
      ]
     },
     "execution_count": 6,
     "metadata": {},
     "output_type": "execute_result"
    }
   ],
   "source": [
    "original_crosshair_arr = np.asarray(original_crosshair)\n",
    "print(original_crosshair_arr.shape)\n",
    "\n",
    "fig, ax = plt.subplots()\n",
    "ax.imshow(original_crosshair_arr)"
   ]
  },
  {
   "cell_type": "code",
   "execution_count": 28,
   "metadata": {},
   "outputs": [
    {
     "data": {
      "text/plain": [
       "4"
      ]
     },
     "execution_count": 28,
     "metadata": {},
     "output_type": "execute_result"
    }
   ],
   "source": [
    "np.sum(original_crosshair_arr[(original_crosshair_arr.shape[0] // 2) + 10,\n",
    "                       (original_crosshair_arr.shape[1] // 2)-10:(original_crosshair_arr.shape[1] // 2)+10] == 255)"
   ]
  },
  {
   "cell_type": "code",
   "execution_count": 29,
   "metadata": {},
   "outputs": [
    {
     "data": {
      "text/plain": [
       "4"
      ]
     },
     "execution_count": 29,
     "metadata": {},
     "output_type": "execute_result"
    }
   ],
   "source": [
    "np.sum(original_crosshair_arr[(original_crosshair_arr.shape[0] // 2)-10:(original_crosshair_arr.shape[0] // 2)+10,\n",
    "                              (original_crosshair_arr.shape[1] // 2) + 10] == 255)"
   ]
  },
  {
   "cell_type": "code",
   "execution_count": 30,
   "metadata": {},
   "outputs": [
    {
     "data": {
      "text/plain": [
       "4"
      ]
     },
     "execution_count": 30,
     "metadata": {},
     "output_type": "execute_result"
    }
   ],
   "source": [
    "np.sum(original_crosshair_arr[0:100, 10] == 255)"
   ]
  },
  {
   "cell_type": "code",
   "execution_count": 31,
   "metadata": {},
   "outputs": [
    {
     "data": {
      "text/plain": [
       "4"
      ]
     },
     "execution_count": 31,
     "metadata": {},
     "output_type": "execute_result"
    }
   ],
   "source": [
    "np.sum(original_crosshair_arr[10, 0:100] == 255)"
   ]
  },
  {
   "cell_type": "markdown",
   "metadata": {},
   "source": [
    "## Draw new crosshair"
   ]
  },
  {
   "cell_type": "code",
   "execution_count": 6,
   "metadata": {},
   "outputs": [],
   "source": [
    "line_width = 4\n",
    "im_width = 912\n",
    "im_height = 1140\n",
    "crosshair_width = original_crosshair.size[0]\n",
    "crosshair_height = original_crosshair.size[1]\n",
    "color = 255"
   ]
  },
  {
   "cell_type": "code",
   "execution_count": 7,
   "metadata": {},
   "outputs": [],
   "source": [
    "new_crosshair = PIL.Image.new( 'L', (crosshair_width, crosshair_height), 0) # Create a new black image"
   ]
  },
  {
   "cell_type": "code",
   "execution_count": 8,
   "metadata": {},
   "outputs": [],
   "source": [
    "new_crosshair_pixels = new_crosshair.load() # Create the pixel map\n",
    "new_crosshair_arr = np.array(new_crosshair)"
   ]
  },
  {
   "cell_type": "markdown",
   "metadata": {},
   "source": [
    "## Draw cross"
   ]
  },
  {
   "cell_type": "code",
   "execution_count": 9,
   "metadata": {},
   "outputs": [],
   "source": [
    "ax0_start = np.int((new_crosshair_arr.shape[0] // 2) - line_width/2)\n",
    "ax0_end = np.int((new_crosshair_arr.shape[0] // 2) + line_width/2)\n",
    "\n",
    "new_crosshair_arr[ax0_start:ax0_end, :] = color"
   ]
  },
  {
   "cell_type": "code",
   "execution_count": 11,
   "metadata": {},
   "outputs": [
    {
     "name": "stdout",
     "output_type": "stream",
     "text": [
      "Label 0: 4 pixels\n",
      "Label 1: 340 pixels\n",
      "Label 2: 340 pixels\n"
     ]
    }
   ],
   "source": [
    "from skimage.measure import label\n",
    "ax0_labeled_whitespace = label(np.logical_not(new_crosshair_arr[:,0]))\n",
    "\n",
    "for label_ in np.unique(ax0_labeled_whitespace):\n",
    "    print(f\"Label {label_}: {np.sum(ax0_labeled_whitespace == label_)} pixels\")"
   ]
  },
  {
   "cell_type": "code",
   "execution_count": 12,
   "metadata": {},
   "outputs": [],
   "source": [
    "ax1_start = np.int((new_crosshair_arr.shape[1] // 2) - line_width/2)\n",
    "ax1_end = np.int((new_crosshair_arr.shape[1] // 2) + line_width/2)\n",
    "\n",
    "new_crosshair_arr[:, ax1_start:ax1_end] = color"
   ]
  },
  {
   "cell_type": "code",
   "execution_count": 13,
   "metadata": {},
   "outputs": [
    {
     "name": "stdout",
     "output_type": "stream",
     "text": [
      "Label 0: 4 pixels\n",
      "Label 1: 300 pixels\n",
      "Label 2: 300 pixels\n"
     ]
    }
   ],
   "source": [
    "from skimage.measure import label\n",
    "ax1_labeled_whitespace = label(np.logical_not(new_crosshair_arr[0,:]))\n",
    "\n",
    "for label_ in np.unique(ax1_labeled_whitespace):\n",
    "    print(f\"Label {label_}: {np.sum(ax1_labeled_whitespace == label_)} pixels\")"
   ]
  },
  {
   "cell_type": "markdown",
   "metadata": {},
   "source": [
    "## Draw window"
   ]
  },
  {
   "cell_type": "code",
   "execution_count": 14,
   "metadata": {},
   "outputs": [],
   "source": [
    "new_crosshair_arr[:line_width, :] = color\n",
    "new_crosshair_arr[-line_width:, :] = color\n",
    "new_crosshair_arr[:, :line_width] = color\n",
    "new_crosshair_arr[:, -line_width:] = color"
   ]
  },
  {
   "cell_type": "markdown",
   "metadata": {},
   "source": [
    "## Convert back to PIL image"
   ]
  },
  {
   "cell_type": "code",
   "execution_count": 15,
   "metadata": {},
   "outputs": [
    {
     "data": {
      "image/png": "[encoded data removed]",
      "text/plain": [
       "<PIL.Image.Image image mode=L size=604x684 at 0x7FA58348C780>"
      ]
     },
     "execution_count": 15,
     "metadata": {},
     "output_type": "execute_result"
    }
   ],
   "source": [
    "new_crosshair = PIL.Image.fromarray(np.uint8(new_crosshair_arr))\n",
    "new_crosshair"
   ]
  },
  {
   "cell_type": "code",
   "execution_count": 19,
   "metadata": {},
   "outputs": [
    {
     "data": {
      "text/plain": [
       "228"
      ]
     },
     "execution_count": 19,
     "metadata": {},
     "output_type": "execute_result"
    }
   ],
   "source": [
    "height_extra//2"
   ]
  },
  {
   "cell_type": "code",
   "execution_count": 20,
   "metadata": {},
   "outputs": [
    {
     "data": {
      "image/png": "[encoded data removed]",
      "text/plain": [
       "<PIL.Image.Image image mode=L size=912x1140 at 0x7FA58254A470>"
      ]
     },
     "metadata": {},
     "output_type": "display_data"
    }
   ],
   "source": [
    "if (crosshair_width !=im_width) or (crosshair_height !=im_height):\n",
    "    \n",
    "    from analysis_toolbox.image_helper import add_margin\n",
    "    from analysis_toolbox.utils import check_even\n",
    "    \n",
    "    width_extra = im_width - crosshair_width\n",
    "    height_extra = im_height - crosshair_height\n",
    "    \n",
    "    if check_even(width_extra) and check_even(height_extra):\n",
    "        new_crosshair = add_margin(new_crosshair, height_extra//2, width_extra//2, height_extra//2, width_extra//2, 0)\n",
    "        display(new_crosshair)\n",
    "    else:\n",
    "        import warnings\n",
    "        warnings.warn(\"width or height not even\")\n",
    "        \n",
    "    "
   ]
  },
  {
   "cell_type": "code",
   "execution_count": 21,
   "metadata": {},
   "outputs": [],
   "source": [
    "from analysis_toolbox.utils import now_str\n",
    "new_crosshair.save(f'crosshair_{now_str()}.bmp')"
   ]
  },
  {
   "cell_type": "code",
   "execution_count": null,
   "metadata": {},
   "outputs": [],
   "source": []
  }
 ],
 "metadata": {
  "kernelspec": {
   "display_name": "python37",
   "language": "python",
   "name": "python37"
  },
  "language_info": {
   "codemirror_mode": {
    "name": "ipython",
    "version": 3
   },
   "file_extension": ".py",
   "mimetype": "text/x-python",
   "name": "python",
   "nbconvert_exporter": "python",
   "pygments_lexer": "ipython3",
   "version": "3.6.7"
  }
 },
 "nbformat": 4,
 "nbformat_minor": 4
}
