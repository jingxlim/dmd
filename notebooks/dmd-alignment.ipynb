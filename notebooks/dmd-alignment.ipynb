{
 "cells": [
  {
   "cell_type": "markdown",
   "metadata": {},
   "source": [
    "Test automated DMD alignment"
   ]
  },
  {
   "cell_type": "code",
   "execution_count": 1,
   "metadata": {},
   "outputs": [],
   "source": [
    "import matplotlib\n",
    "matplotlib.use('Qt5Agg')\n",
    "from matplotlib import pyplot as plt\n",
    "from matplotlib.widgets import Button\n",
    "import numpy as np\n",
    "from skimage.io import imread\n",
    "import json\n",
    "import sys\n",
    "plt.ion()"
   ]
  },
  {
   "cell_type": "code",
   "execution_count": 2,
   "metadata": {
    "tags": []
   },
   "outputs": [],
   "source": [
    "calibration_image_fname = r'Z:/davis/data/dmd_calibration/20170705/white.png'\n",
    "calibration_image = imread(calibration_image_fname)\n",
    "calibration_data_fname = r'C:\\Users\\Ahrenslab\\Documents\\Github\\dmd\\dmd_calibration.json'\n",
    "\n",
    "with open(calibration_data_fname, 'r') as infile:\n",
    "    calibration_data = json.load(infile)"
   ]
  },
  {
   "cell_type": "code",
   "execution_count": 3,
   "metadata": {},
   "outputs": [
    {
     "data": {
      "text/plain": [
       "{'dmd_rect': [181, 593, 1812, 1484]}"
      ]
     },
     "execution_count": 3,
     "metadata": {},
     "output_type": "execute_result"
    }
   ],
   "source": [
    "calibration_data"
   ]
  },
  {
   "cell_type": "code",
   "execution_count": 4,
   "metadata": {
    "tags": []
   },
   "outputs": [],
   "source": [
    "template_image = np.zeros([2048, 2048])\n",
    "template_pattern = np.zeros([480, 854]) + 30000\n",
    "corner_pos = calibration_data['dmd_rect']\n",
    "template_image[corner_pos[1]:corner_pos[1] + template_pattern.shape[0], corner_pos[0]:corner_pos[0]+template_pattern.shape[1]] = template_pattern"
   ]
  },
  {
   "cell_type": "code",
   "execution_count": 5,
   "metadata": {},
   "outputs": [
    {
     "data": {
      "text/plain": [
       "<matplotlib.image.AxesImage at 0x9bff2b0>"
      ]
     },
     "execution_count": 5,
     "metadata": {},
     "output_type": "execute_result"
    }
   ],
   "source": [
    "fig, axs = plt.subplots(ncols=2, figsize=(16,8))\n",
    "axs[0].imshow(calibration_image)\n",
    "axs[1].imshow(template_image)"
   ]
  },
  {
   "cell_type": "code",
   "execution_count": 6,
   "metadata": {
    "tags": []
   },
   "outputs": [],
   "source": [
    "from dipy.align.imaffine import (transform_centers_of_mass,\n",
    "                                 AffineMap,\n",
    "                                 MutualInformationMetric,\n",
    "                                 AffineRegistration)\n",
    "from dipy.align.transforms import (TranslationTransform2D,\n",
    "                                   RigidTransform2D,\n",
    "                                   AffineTransform2D)"
   ]
  },
  {
   "cell_type": "code",
   "execution_count": 10,
   "metadata": {},
   "outputs": [],
   "source": [
    "static = calibration_image.astype('float32')\n",
    "moving = template_image.astype('float32')\n",
    "g2w = np.eye(3)\n",
    "g2w[:2,-1] = np.array(static.shape) / 2"
   ]
  },
  {
   "cell_type": "code",
   "execution_count": 8,
   "metadata": {},
   "outputs": [
    {
     "data": {
      "text/plain": [
       "<matplotlib.image.AxesImage at 0x1696e438>"
      ]
     },
     "execution_count": 8,
     "metadata": {},
     "output_type": "execute_result"
    }
   ],
   "source": [
    "plt.imshow(moving + static)"
   ]
  },
  {
   "cell_type": "code",
   "execution_count": 11,
   "metadata": {
    "tags": []
   },
   "outputs": [],
   "source": [
    "c_of_mass = transform_centers_of_mass(static, g2w,\n",
    "                                      moving, g2w)"
   ]
  },
  {
   "cell_type": "code",
   "execution_count": 12,
   "metadata": {},
   "outputs": [
    {
     "name": "stdout",
     "output_type": "stream",
     "text": [
      "Optimizing level 2 [max iter: 10000]\n",
      "Optimizing level 1 [max iter: 1000]\n",
      "Optimizing level 0 [max iter: 100]\n"
     ]
    }
   ],
   "source": [
    "nbins = 32\n",
    "sampling_prop = None\n",
    "metric = MutualInformationMetric(nbins, sampling_prop)\n",
    "level_iters = [10000, 1000, 100]\n",
    "sigmas = [3.0, 1.0, 0.0]\n",
    "factors = [4, 2, 1]\n",
    "affreg = AffineRegistration(metric=metric,\n",
    "                            level_iters=level_iters,\n",
    "                            sigmas=sigmas,\n",
    "                            factors=factors)\n",
    "\n",
    "transform = TranslationTransform2D()\n",
    "params0 = None\n",
    "starting_affine = c_of_mass.affine\n",
    "translation = affreg.optimize(static, moving, transform, params0,\n",
    "                              g2w, g2w,\n",
    "                              starting_affine=starting_affine)"
   ]
  },
  {
   "cell_type": "raw",
   "metadata": {},
   "source": [
    "transform = RigidTransform2D()\n",
    "params0 = None\n",
    "starting_affine = translation.affine\n",
    "rigid = affreg.optimize(static, moving, transform, params0,\n",
    "                        g2w, g2w,\n",
    "                        starting_affine=starting_affine)"
   ]
  },
  {
   "cell_type": "code",
   "execution_count": 13,
   "metadata": {},
   "outputs": [
    {
     "name": "stdout",
     "output_type": "stream",
     "text": [
      "Optimizing level 2 [max iter: 10000]\n",
      "Optimizing level 1 [max iter: 1000]\n",
      "Optimizing level 0 [max iter: 100]\n"
     ]
    }
   ],
   "source": [
    "transform = AffineTransform2D()\n",
    "params0 = None\n",
    "starting_affine = translation.affine\n",
    "affine = affreg.optimize(static, moving, transform, params0,\n",
    "                         g2w, g2w,\n",
    "                         starting_affine=starting_affine)"
   ]
  },
  {
   "cell_type": "code",
   "execution_count": 14,
   "metadata": {},
   "outputs": [
    {
     "data": {
      "text/plain": [
       "<matplotlib.image.AxesImage at 0xa6b76a0>"
      ]
     },
     "execution_count": 14,
     "metadata": {},
     "output_type": "execute_result"
    }
   ],
   "source": [
    "plt.imshow(affine.transform(moving))"
   ]
  },
  {
   "cell_type": "code",
   "execution_count": null,
   "metadata": {
    "tags": []
   },
   "outputs": [],
   "source": []
  }
 ],
 "metadata": {
  "kernelspec": {
   "display_name": "Python [default]",
   "language": "python",
   "name": "python3"
  },
  "language_info": {
   "codemirror_mode": {
    "name": "ipython",
    "version": 3
   },
   "file_extension": ".py",
   "mimetype": "text/x-python",
   "name": "python",
   "nbconvert_exporter": "python",
   "pygments_lexer": "ipython3",
   "version": "3.6.5"
  }
 },
 "nbformat": 4,
 "nbformat_minor": 4
}
