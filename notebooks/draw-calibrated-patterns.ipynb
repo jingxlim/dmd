{
 "cells": [
  {
   "cell_type": "code",
   "execution_count": 1,
   "metadata": {},
   "outputs": [],
   "source": [
    "import matplotlib\n",
    "# matplotlib.use('Qt5Agg')\n",
    "from matplotlib import pyplot as plt\n",
    "from matplotlib.widgets import Button\n",
    "import numpy as np\n",
    "from skimage.io import imread, imsave\n",
    "import json\n",
    "import sys"
   ]
  },
  {
   "cell_type": "code",
   "execution_count": 2,
   "metadata": {},
   "outputs": [],
   "source": [
    "dmd_dir = r'/groups/ahrens/home/limj2/dmd/' \n",
    "# dmd_dir = r'C:\\Users\\Ahrenslab\\Documents\\Github\\dmd\\'"
   ]
  },
  {
   "cell_type": "code",
   "execution_count": 3,
   "metadata": {},
   "outputs": [],
   "source": [
    "sys.path.append(dmd_dir)\n",
    "from dmd.gui import DraggableRectangle, RoiDrawing\n",
    "plt.ion()"
   ]
  },
  {
   "cell_type": "code",
   "execution_count": 4,
   "metadata": {},
   "outputs": [],
   "source": [
    "def get_sample_image_location(sample_image_fname):\n",
    "    # if a metadata file is available, load it and get the position of the camera ROI\n",
    "    from fish.image.zds import get_metadata\n",
    "    from os.path import split, sep, exists\n",
    "    from numpy import array\n",
    "    sample_image_dir = split(sample_image_fname)[0] + sep\n",
    "    metadata_path = sample_image_dir + 'ch0.xml'\n",
    "    roi = None\n",
    "    if exists(metadata_path):\n",
    "        metadata = get_metadata(metadata_path)\n",
    "        roi = array(metadata['camera_roi'].split('_')).astype('int')\n",
    "    return roi"
   ]
  },
  {
   "cell_type": "code",
   "execution_count": 5,
   "metadata": {},
   "outputs": [],
   "source": [
    "calibration_data_fname = os.path.join(dmd_dir, 'dmd_calibration.json')"
   ]
  },
  {
   "cell_type": "code",
   "execution_count": 6,
   "metadata": {},
   "outputs": [],
   "source": [
    "calibration_image_fname = os.path.join(dmd_dir, 'target.png') # r'F:\\rongwei\\cross_hair\\cross_hair_20210712.png'    \n",
    "calibration_image = imread(calibration_image_fname)"
   ]
  },
  {
   "cell_type": "markdown",
   "metadata": {},
   "source": [
    "## Load calibration image from file and estimate position of DMD pattern \n",
    "# todo: automate this"
   ]
  },
  {
   "cell_type": "code",
   "execution_count": null,
   "metadata": {},
   "outputs": [],
   "source": [
    "from matplotlib.patches import Rectangle\n",
    "fig, axs = plt.subplots(figsize=(8,8))\n",
    "from skimage.exposure import adjust_gamma\n",
    "axs.imshow(adjust_gamma(calibration_image,.5), origin='lower', cmap='gray')\n",
    "\n",
    "# Empirically, this is a pretty good guess, in case we can't load the calibration data file\n",
    "# x_guess, y_guess, w_guess, h_guess = 230, 588, 1600, 874\n",
    "\n",
    "with open(calibration_data_fname, 'r') as infile:\n",
    "    calibration_data = json.load(infile)\n",
    "\n",
    "x_guess, y_guess, w_guess, h_guess = calibration_data['dmd_rect']\n",
    "\n",
    "# dmd_rect stores the coordinates of the corners of the rectangle instead of corner_x, corner_y, w, h\n",
    "w_guess -= x_guess\n",
    "h_guess -= y_guess\n",
    "\n",
    "rect = Rectangle((x_guess,y_guess), w_guess, h_guess, fill=False)\n",
    "axs.add_patch(rect)\n",
    "dr = DraggableRectangle(rect)\n",
    "dr.connect()\n",
    "# plt.show()"
   ]
  },
  {
   "cell_type": "code",
   "execution_count": 6,
   "metadata": {},
   "outputs": [],
   "source": [
    "## TODO:Add a crosshair down the middle of the alignment rectangle"
   ]
  },
  {
   "cell_type": "code",
   "execution_count": 7,
   "metadata": {},
   "outputs": [
    {
     "name": "stdout",
     "output_type": "stream",
     "text": [
      "236 580 1580 894\n"
     ]
    }
   ],
   "source": [
    "x, y, w, h = dr.rect.get_x(), dr.rect.get_y(), dr.rect.get_width(), dr.rect.get_height()\n",
    "dmd_rect = [int(x), int(y), int(x + w), int(h + y)]\n",
    "calibration_data = {'dmd_rect' : dmd_rect}\n",
    "with open(calibration_data_fname, 'w') as outfile:\n",
    "    json.dump(calibration_data, outfile)\n",
    "\n",
    "print(x,y,w,h)"
   ]
  },
  {
   "cell_type": "markdown",
   "metadata": {},
   "source": [
    "## Load target image from file and draw ROI"
   ]
  },
  {
   "cell_type": "code",
   "execution_count": 8,
   "metadata": {
    "tags": []
   },
   "outputs": [
    {
     "ename": "NameError",
     "evalue": "name 'sample_image' is not defined",
     "output_type": "error",
     "traceback": [
      "\u001b[0;31m---------------------------------------------------------------------------\u001b[0m",
      "\u001b[0;31mNameError\u001b[0m                                 Traceback (most recent call last)",
      "\u001b[0;32m<ipython-input-8-e8cea83ccf8a>\u001b[0m in \u001b[0;36m<module>\u001b[0;34m\u001b[0m\n\u001b[1;32m      9\u001b[0m \u001b[0;34m\u001b[0m\u001b[0m\n\u001b[1;32m     10\u001b[0m \u001b[0;31m#special case when sample image is the full chip\u001b[0m\u001b[0;34m\u001b[0m\u001b[0;34m\u001b[0m\u001b[0;34m\u001b[0m\u001b[0m\n\u001b[0;32m---> 11\u001b[0;31m \u001b[0;32mif\u001b[0m \u001b[0msample_image\u001b[0m\u001b[0;34m.\u001b[0m\u001b[0mshape\u001b[0m \u001b[0;34m==\u001b[0m \u001b[0;34m(\u001b[0m\u001b[0;36m2048\u001b[0m\u001b[0;34m,\u001b[0m\u001b[0;36m2048\u001b[0m\u001b[0;34m)\u001b[0m\u001b[0;34m:\u001b[0m\u001b[0;34m\u001b[0m\u001b[0;34m\u001b[0m\u001b[0m\n\u001b[0m\u001b[1;32m     12\u001b[0m     \u001b[0msample_image_pos\u001b[0m \u001b[0;34m=\u001b[0m \u001b[0;34m[\u001b[0m\u001b[0;36m0\u001b[0m\u001b[0;34m,\u001b[0m\u001b[0;36m2048\u001b[0m\u001b[0;34m,\u001b[0m\u001b[0;36m0\u001b[0m\u001b[0;34m,\u001b[0m\u001b[0;36m2048\u001b[0m\u001b[0;34m]\u001b[0m\u001b[0;34m\u001b[0m\u001b[0;34m\u001b[0m\u001b[0m\n\u001b[1;32m     13\u001b[0m \u001b[0;34m\u001b[0m\u001b[0m\n",
      "\u001b[0;31mNameError\u001b[0m: name 'sample_image' is not defined"
     ]
    }
   ],
   "source": [
    "sample_image_fname = r'F:\\jing\\20210813\\fish00\\7dpf_gfap-gal4-uas-cochr_elavl3-rgeco_opto-ref-stack_fish00_exp00_20210813_175732\\TM0000000_CM0_CHN00.tif'\n",
    "from skimage.exposure import adjust_gamma\n",
    "\n",
    "# try to get location of the camera image from metadata\n",
    "sample_image_pos = get_sample_image_location(sample_image_fname)\n",
    "# if we can't find the metadata,assume the sample image was taken from (0,512) to (2048,1536)  \n",
    "\n",
    "sample_image = imread(sample_image_fname)\n",
    "\n",
    "#special case when sample image is the full chip\n",
    "if sample_image.shape == (2048,2048):\n",
    "    sample_image_pos = [0,2048,0,2048]\n",
    "\n",
    "if sample_image_pos is None:\n",
    "    # following the zebrascope metadata, this is [y_start, y_end, x_start, x_end]\n",
    "    sample_image_pos = [512, 1536, 0, 2048]\n",
    "\n",
    "\n",
    "if sample_image.ndim ==3:\n",
    "    sample_image = sample_image.max(0)\n",
    "    \n",
    "full_cam = np.zeros((2048,2048)) + sample_image.min()\n",
    "full_cam[sample_image_pos[0]:sample_image_pos[1], sample_image_pos[2]:sample_image_pos[3]] = sample_image\n",
    "sample_image = full_cam\n",
    "data = sample_image[dmd_rect[1]:dmd_rect[3],dmd_rect[0]:dmd_rect[2]]\n",
    "\n",
    "fig = plt.figure()\n",
    "ax = plt.axes([.05, .05, .6, .6])\n",
    "ax.set_title('Draw ROI')\n",
    "ax.imshow(adjust_gamma(data,.1), cmap='gray')\n",
    "#\n",
    "roi_draw = RoiDrawing(ax, data)\n",
    "\n",
    "ax_butt = plt.axes([0.7, 0.05, 0.1, 0.075])\n",
    "wipe_butt = Button(ax_butt, 'Wipe')\n",
    "wipe_butt.on_clicked(roi_draw.wipe)\n",
    "\n",
    "ax_decr = plt.axes([.7, .15, .1, .075])\n",
    "decr_button = Button(ax_decr, 'Prev ROI')\n",
    "decr_button.on_clicked(roi_draw.focus_decr)\n",
    "\n",
    "ax_incr = plt.axes([.7, .25, .1, .075])\n",
    "incr_button = Button(ax_incr, 'Next ROI')\n",
    "incr_button.on_clicked(roi_draw.focus_incr)\n",
    "plt.show()"
   ]
  },
  {
   "cell_type": "code",
   "execution_count": 10,
   "metadata": {},
   "outputs": [],
   "source": [
    "masks = np.array([r.get_mask() for r in roi_draw.rois if len(r.x) > 0])\n",
    "# apply binary opening to get rid of thin stuff\n",
    "from skimage.morphology import binary_opening, disk\n",
    "from skimage.transform import resize\n",
    "masks = np.array([binary_opening(m, disk(5)) for m in masks])\n",
    "dmd_dims = (684,608)  ## needs updating\n",
    "masks_resized = np.array([resize(m, output_shape = dmd_dims, mode='constant', cval=0) for m in masks])\n",
    "# need to flip along x axis\n",
    "masks_resized = masks_resized[:,:,::-1]\n",
    "fig, axs = plt.subplots(ncols=2)\n",
    "\n",
    "axs[1].imshow(masks_resized.sum(0),cmap='gray', origin='lower')\n",
    "axs[0].imshow(masks.sum(0), cmap='gray')\n",
    "\n",
    "plt.show()"
   ]
  },
  {
   "cell_type": "code",
   "execution_count": null,
   "metadata": {},
   "outputs": [],
   "source": [
    "## untested\n",
    "fig, axs = plt.subplots()\n",
    "plt.imshow(masks.reshape(2,-1,masks.shape[1], masks.shape[2]).sum(1)[1])\n",
    "plt.show()"
   ]
  },
  {
   "cell_type": "code",
   "execution_count": 11,
   "metadata": {},
   "outputs": [
    {
     "data": {
      "text/plain": [
       "6"
      ]
     },
     "execution_count": 11,
     "metadata": {},
     "output_type": "execute_result"
    }
   ],
   "source": [
    "len(masks)"
   ]
  },
  {
   "cell_type": "markdown",
   "metadata": {},
   "source": [
    "## Set output directory for ROI"
   ]
  },
  {
   "cell_type": "code",
   "execution_count": 12,
   "metadata": {},
   "outputs": [],
   "source": [
    "out_path = r'W:\\limj2\\dmd\\20210813\\fish00\\TS1-reg1'\n",
    "from os.path import exists\n",
    "from os import makedirs\n",
    "if not exists(out_path):\n",
    "    makedirs(out_path)"
   ]
  },
  {
   "cell_type": "markdown",
   "metadata": {},
   "source": [
    "# Warning: this overwrites any existing ROI!!"
   ]
  },
  {
   "cell_type": "code",
   "execution_count": 13,
   "metadata": {},
   "outputs": [
    {
     "name": "stderr",
     "output_type": "stream",
     "text": [
      "C:\\Anaconda3\\lib\\site-packages\\skimage\\util\\dtype.py:122: UserWarning: Possible precision loss when converting from float64 to uint16\n",
      "  .format(dtypeobj_in, dtypeobj_out))\n"
     ]
    }
   ],
   "source": [
    "for ind, m in enumerate(masks_resized):\n",
    "    imsave(out_path + '\\pattern_{:04d}.png'.format(ind), m)"
   ]
  }
 ],
 "metadata": {
  "anaconda-cloud": {},
  "kernelspec": {
   "display_name": "python37",
   "language": "python",
   "name": "python37"
  },
  "language_info": {
   "codemirror_mode": {
    "name": "ipython",
    "version": 3
   },
   "file_extension": ".py",
   "mimetype": "text/x-python",
   "name": "python",
   "nbconvert_exporter": "python",
   "pygments_lexer": "ipython3",
   "version": "3.6.7"
  }
 },
 "nbformat": 4,
 "nbformat_minor": 4
}
